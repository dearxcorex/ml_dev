{
 "cells": [
  {
   "cell_type": "code",
   "execution_count": null,
   "metadata": {},
   "outputs": [],
   "source": [
    "import numpy as np\n",
    "\n",
    "#normal equation to find for LinearRegression\n",
    "#proof normal equation from basic \n",
    "X = np.array([[0,1],[2,1],[1,1],[2,0]])\n",
    "y = np.array([4,8,6,5])\n",
    "\n"
   ]
  },
  {
   "cell_type": "code",
   "execution_count": null,
   "metadata": {},
   "outputs": [],
   "source": [
    "# Add a column of ones to Xb\n",
    "X = np.concatenate((np.ones((X.shape[0],1)), X) , axis=1)\n",
    "weight = np.linalg.inv(X.T.dot(X)).dot(X.T).dot(y)\n",
    "\n"
   ]
  },
  {
   "cell_type": "code",
   "execution_count": null,
   "metadata": {},
   "outputs": [],
   "source": [
    "#use sklearn\n",
    "\n",
    "\n",
    "# from sklearn.linear_model import LinearRegression\n",
    "# reg = LinearRegression()\n",
    "\n",
    "\n",
    "# reg.fit(X,y)\n",
    "# reg.intercept_\n",
    "# reg.coef_"
   ]
  },
  {
   "cell_type": "code",
   "execution_count": null,
   "metadata": {},
   "outputs": [],
   "source": []
  },
  {
   "cell_type": "code",
   "execution_count": null,
   "metadata": {},
   "outputs": [],
   "source": []
  }
 ],
 "metadata": {
  "kernelspec": {
   "display_name": "Python 3",
   "language": "python",
   "name": "python3"
  },
  "language_info": {
   "codemirror_mode": {
    "name": "ipython",
    "version": 3
   },
   "file_extension": ".py",
   "mimetype": "text/x-python",
   "name": "python",
   "nbconvert_exporter": "python",
   "pygments_lexer": "ipython3",
   "version": "3.10.9"
  },
  "orig_nbformat": 4
 },
 "nbformat": 4,
 "nbformat_minor": 2
}
